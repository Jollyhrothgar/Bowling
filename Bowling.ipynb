{
 "cells": [
  {
   "cell_type": "code",
   "execution_count": 44,
   "id": "71c360b7-c4c3-4b94-ad3b-01e6603543c1",
   "metadata": {},
   "outputs": [],
   "source": [
    "import random\n",
    "import numpy as np\n",
    "import matplotlib.pyplot as plt\n",
    "import seaborn as sns\n",
    "import pandas as pd"
   ]
  },
  {
   "cell_type": "code",
   "execution_count": 67,
   "id": "12627849-a3e1-479f-8d38-c98cc9363b6e",
   "metadata": {},
   "outputs": [],
   "source": [
    "def generate_random_game():\n",
    "  results = [] \n",
    "  counter = 0\n",
    "  for frame in range(10):\n",
    "    rolls = []\n",
    "    if frame != 9:\n",
    "      # First Nine Frames.\n",
    "      first = random.randint(0, 10)\n",
    "      rolls.append(first)\n",
    "      if first == 10:\n",
    "        second = 0\n",
    "      else:\n",
    "        second = random.randint(0, 10-first)\n",
    "        rolls.append(second)\n",
    "      third = 0\n",
    "    else:\n",
    "      # Ninth Frame Rules\n",
    "      first = random.randint(0, 10)\n",
    "      rolls.append(first)\n",
    "      if first == 10:\n",
    "        second = random.randint(0, 10)\n",
    "        rolls.append(second)\n",
    "      else:\n",
    "        second = random.randint(0, 10-first)\n",
    "        rolls.append(second)\n",
    "        \n",
    "      # Third Frame Logic\n",
    "      if first + second == 10 and first < 10:\n",
    "        # Second frame was a spare.\n",
    "        third = random.randint(0, 10)\n",
    "        rolls.append(third)\n",
    "      elif first == 10 and second < 10:\n",
    "        # First frame was a strike\n",
    "        third = random.randint(0, 10-second)\n",
    "        rolls.append(third)\n",
    "      elif first == 10 and second == 10:\n",
    "        # Two strikes\n",
    "        third = random.randint(0, 10)\n",
    "        rolls.append(third)\n",
    "      else:\n",
    "        third = 0\n",
    "    counter += 1\n",
    "    results.append(rolls)\n",
    "  return results \n",
    "\n",
    "def score_game(game):\n",
    "  frame_scores = []\n",
    "  cumulative_scores = []\n",
    "  total_score = 0\n",
    "  for i, frame in enumerate(game):\n",
    "    points = 0\n",
    "    if i < 9:\n",
    "      # Strike\n",
    "      if game[i][0] == 10:\n",
    "        points += game[i][0]\n",
    "        points += game[i+1][0]\n",
    "        if len(game[i+1]) > 1:\n",
    "          points += game[i+1][1]\n",
    "        else:\n",
    "          points += game[i+2][0]\n",
    "     \n",
    "      # Spare\n",
    "      elif sum(game[i]) == 10 and game[i][0] != 10:\n",
    "        points += sum(game[i])\n",
    "        points += game[i+1][0]\n",
    "      \n",
    "      # Normal\n",
    "      else:\n",
    "        points += sum(frame)\n",
    "    \n",
    "    if i == 9:\n",
    "      points += sum(frame)\n",
    "  \n",
    "    total_score += points\n",
    "    cumulative_scores.append(total_score)\n",
    "    frame_scores.append(points)\n",
    "    \n",
    "  return (total_score, frame_scores, cumulative_scores)"
   ]
  },
  {
   "cell_type": "code",
   "execution_count": 69,
   "id": "409da53a-644a-41a2-af3a-75f7433d00cc",
   "metadata": {},
   "outputs": [],
   "source": [
    "scores = [score_game(generate_random_game())[0] for _ in range(10000)]\n",
    "frame_avg = [np.mean(score_game(generate_random_game())[1]) for _ in range(10000)]"
   ]
  },
  {
   "cell_type": "code",
   "execution_count": 71,
   "id": "01e6e119-f34d-454b-ab93-890d1b125671",
   "metadata": {},
   "outputs": [
    {
     "data": {
      "text/plain": [
       "<matplotlib.lines.Line2D at 0x1765812b0>"
      ]
     },
     "execution_count": 71,
     "metadata": {},
     "output_type": "execute_result"
    },
    {
     "data": {
      "image/png": "[encoded data removed]",
      "text/plain": [
       "<Figure size 720x360 with 2 Axes>"
      ]
     },
     "metadata": {
      "needs_background": "light"
     },
     "output_type": "display_data"
    }
   ],
   "source": [
    "fig, (ax_l, ax_r) = plt.subplots(nrows=1, ncols=2, figsize=(10,5))\n",
    "ax_l = sns.histplot(scores, ax=ax_l)\n",
    "median = np.median(scores)\n",
    "ax_l.set_title(f\"Random Bowler Game Score: Median {median}\")\n",
    "ax_l.axvline(median, color='r', linestyle='--', linewidth=4)\n",
    "\n",
    "ax_r = sns.histplot(frame_avg, ax=ax_r)\n",
    "median = np.median(frame_avg)\n",
    "ax_r.set_title(f\"Random Bowler Frame Score {median}\")\n",
    "ax_r.axvline(median, color='r', linestyle='--', linewidth=4)\n"
   ]
  },
  {
   "cell_type": "code",
   "execution_count": 65,
   "id": "b6ad1edc-ac7c-44b5-8178-3b09c491f452",
   "metadata": {},
   "outputs": [
    {
     "name": "stdout",
     "output_type": "stream",
     "text": [
      "[[4, 5], [7, 0], [4, 0], [10], [7, 2], [6, 0], [6, 0], [5, 5], [1, 9], [10, 9, 0]]\n"
     ]
    }
   ],
   "source": [
    "game = generate_random_game()\n",
    "print(game)"
   ]
  },
  {
   "cell_type": "code",
   "execution_count": 68,
   "id": "109e976e-a7b5-41cc-b3e7-5b9d42420861",
   "metadata": {},
   "outputs": [
    {
     "data": {
      "text/plain": [
       "(110,\n",
       " [9, 7, 4, 19, 9, 6, 6, 11, 20, 19],\n",
       " [9, 16, 20, 39, 48, 54, 60, 71, 91, 110])"
      ]
     },
     "execution_count": 68,
     "metadata": {},
     "output_type": "execute_result"
    }
   ],
   "source": [
    "score_game(game)"
   ]
  },
  {
   "cell_type": "code",
   "execution_count": null,
   "id": "0b5ee0ff-c1e8-4b4c-88eb-1e1792fa3a78",
   "metadata": {},
   "outputs": [],
   "source": []
  }
 ],
 "metadata": {
  "kernelspec": {
   "display_name": "Python 3",
   "language": "python",
   "name": "python3"
  },
  "language_info": {
   "codemirror_mode": {
    "name": "ipython",
    "version": 3
   },
   "file_extension": ".py",
   "mimetype": "text/x-python",
   "name": "python",
   "nbconvert_exporter": "python",
   "pygments_lexer": "ipython3",
   "version": "3.9.12"
  }
 },
 "nbformat": 4,
 "nbformat_minor": 5
}
